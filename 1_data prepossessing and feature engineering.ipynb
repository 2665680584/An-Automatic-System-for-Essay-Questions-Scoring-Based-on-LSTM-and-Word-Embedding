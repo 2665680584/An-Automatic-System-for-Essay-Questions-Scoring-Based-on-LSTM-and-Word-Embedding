{
 "cells": [
  {
   "cell_type": "code",
   "execution_count": 1,
   "metadata": {},
   "outputs": [],
   "source": [
    "%matplotlib inline\n",
    "import warnings\n",
    "warnings.filterwarnings(\"ignore\") \n",
    "\n",
    "import numpy as np\n",
    "import pandas as pd\n",
    "import re\n",
    "from datetime import datetime\n",
    "\n",
    "import matplotlib.pyplot as plt\n",
    "import seaborn as sns\n",
    "\n",
    "import spacy\n",
    "from spacy.lang.en.stop_words import STOP_WORDS\n",
    "from string import punctuation\n",
    "\n",
    "import language_check\n",
    "\n",
    "from sklearn.feature_extraction.text import CountVectorizer\n",
    "from sklearn.decomposition import LatentDirichletAllocation\n",
    "from sklearn.externals import joblib\n",
    "from sklearn.model_selection import train_test_split\n",
    "\n",
    "import warnings\n",
    "warnings.simplefilter(\"ignore\", DeprecationWarning)"
   ]
  },
  {
   "cell_type": "code",
   "execution_count": 2,
   "metadata": {
    "scrolled": true
   },
   "outputs": [
    {
     "data": {
      "text/html": [
       "<div>\n",
       "<style scoped>\n",
       "    .dataframe tbody tr th:only-of-type {\n",
       "        vertical-align: middle;\n",
       "    }\n",
       "\n",
       "    .dataframe tbody tr th {\n",
       "        vertical-align: top;\n",
       "    }\n",
       "\n",
       "    .dataframe thead th {\n",
       "        text-align: right;\n",
       "    }\n",
       "</style>\n",
       "<table border=\"1\" class=\"dataframe\">\n",
       "  <thead>\n",
       "    <tr style=\"text-align: right;\">\n",
       "      <th></th>\n",
       "      <th>Unnamed: 0</th>\n",
       "      <th>Unnamed: 0.1</th>\n",
       "      <th>Unnamed: 0.1.1</th>\n",
       "      <th>Unnamed: 0.1.1.1</th>\n",
       "      <th>Unnamed: 0.1.1.1.1</th>\n",
       "      <th>essay_id</th>\n",
       "      <th>topic</th>\n",
       "      <th>essay</th>\n",
       "      <th>rater1_domain1</th>\n",
       "      <th>rater2_domain1</th>\n",
       "      <th>...</th>\n",
       "      <th>rater3_trait2</th>\n",
       "      <th>rater3_trait3</th>\n",
       "      <th>rater3_trait4</th>\n",
       "      <th>rater3_trait5</th>\n",
       "      <th>rater3_trait6</th>\n",
       "      <th>err_ratio</th>\n",
       "      <th>avg_len</th>\n",
       "      <th>total_err_ratio</th>\n",
       "      <th>avg_wdlen</th>\n",
       "      <th>count_vector</th>\n",
       "    </tr>\n",
       "  </thead>\n",
       "  <tbody>\n",
       "    <tr>\n",
       "      <th>0</th>\n",
       "      <td>0</td>\n",
       "      <td>0</td>\n",
       "      <td>0</td>\n",
       "      <td>0</td>\n",
       "      <td>0</td>\n",
       "      <td>1</td>\n",
       "      <td>1</td>\n",
       "      <td>Dear local newspaper, I think effects computer...</td>\n",
       "      <td>4</td>\n",
       "      <td>4</td>\n",
       "      <td>...</td>\n",
       "      <td>NaN</td>\n",
       "      <td>NaN</td>\n",
       "      <td>NaN</td>\n",
       "      <td>NaN</td>\n",
       "      <td>NaN</td>\n",
       "      <td>(0.026627218934911243, 0.005917159763313609)</td>\n",
       "      <td>30.818182</td>\n",
       "      <td>0.032544</td>\n",
       "      <td>4.387574</td>\n",
       "      <td>(0, 19929)\\t1\\n  (0, 13868)\\t1\\n  (0, 33918)...</td>\n",
       "    </tr>\n",
       "    <tr>\n",
       "      <th>1</th>\n",
       "      <td>1</td>\n",
       "      <td>1</td>\n",
       "      <td>1</td>\n",
       "      <td>1</td>\n",
       "      <td>1</td>\n",
       "      <td>2</td>\n",
       "      <td>1</td>\n",
       "      <td>Dear @CAPS1 @CAPS2, I believe that using compu...</td>\n",
       "      <td>5</td>\n",
       "      <td>4</td>\n",
       "      <td>...</td>\n",
       "      <td>NaN</td>\n",
       "      <td>NaN</td>\n",
       "      <td>NaN</td>\n",
       "      <td>NaN</td>\n",
       "      <td>NaN</td>\n",
       "      <td>(0.03341288782816229, 0.011933174224343675)</td>\n",
       "      <td>22.052632</td>\n",
       "      <td>0.045346</td>\n",
       "      <td>4.353222</td>\n",
       "      <td>(0, 20235)\\t1\\n  (0, 26185)\\t1\\n  (0, 26031)...</td>\n",
       "    </tr>\n",
       "    <tr>\n",
       "      <th>2</th>\n",
       "      <td>2</td>\n",
       "      <td>2</td>\n",
       "      <td>2</td>\n",
       "      <td>2</td>\n",
       "      <td>2</td>\n",
       "      <td>3</td>\n",
       "      <td>1</td>\n",
       "      <td>Dear, @CAPS1 @CAPS2 @CAPS3 More and more peopl...</td>\n",
       "      <td>4</td>\n",
       "      <td>3</td>\n",
       "      <td>...</td>\n",
       "      <td>NaN</td>\n",
       "      <td>NaN</td>\n",
       "      <td>NaN</td>\n",
       "      <td>NaN</td>\n",
       "      <td>NaN</td>\n",
       "      <td>(0.0035842293906810036, 0.02867383512544803)</td>\n",
       "      <td>18.533333</td>\n",
       "      <td>0.032258</td>\n",
       "      <td>4.405018</td>\n",
       "      <td>(0, 36230)\\t1\\n  (0, 29755)\\t1\\n  (0, 7980)\\...</td>\n",
       "    </tr>\n",
       "    <tr>\n",
       "      <th>3</th>\n",
       "      <td>3</td>\n",
       "      <td>3</td>\n",
       "      <td>3</td>\n",
       "      <td>3</td>\n",
       "      <td>3</td>\n",
       "      <td>4</td>\n",
       "      <td>1</td>\n",
       "      <td>Dear Local Newspaper, @CAPS1 I have found that...</td>\n",
       "      <td>5</td>\n",
       "      <td>5</td>\n",
       "      <td>...</td>\n",
       "      <td>NaN</td>\n",
       "      <td>NaN</td>\n",
       "      <td>NaN</td>\n",
       "      <td>NaN</td>\n",
       "      <td>NaN</td>\n",
       "      <td>(0.04580152671755725, 0.02099236641221374)</td>\n",
       "      <td>21.040000</td>\n",
       "      <td>0.066794</td>\n",
       "      <td>4.868321</td>\n",
       "      <td>(0, 34683)\\t1\\n  (0, 21557)\\t1\\n  (0, 8232)\\...</td>\n",
       "    </tr>\n",
       "    <tr>\n",
       "      <th>4</th>\n",
       "      <td>4</td>\n",
       "      <td>4</td>\n",
       "      <td>4</td>\n",
       "      <td>4</td>\n",
       "      <td>4</td>\n",
       "      <td>5</td>\n",
       "      <td>1</td>\n",
       "      <td>Dear @LOCATION1, I know having computers has a...</td>\n",
       "      <td>4</td>\n",
       "      <td>4</td>\n",
       "      <td>...</td>\n",
       "      <td>NaN</td>\n",
       "      <td>NaN</td>\n",
       "      <td>NaN</td>\n",
       "      <td>NaN</td>\n",
       "      <td>NaN</td>\n",
       "      <td>(0.025806451612903226, 0.010752688172043012)</td>\n",
       "      <td>14.903226</td>\n",
       "      <td>0.036559</td>\n",
       "      <td>4.408602</td>\n",
       "      <td>(0, 36306)\\t1\\n  (0, 22533)\\t1\\n  (0, 28070)...</td>\n",
       "    </tr>\n",
       "  </tbody>\n",
       "</table>\n",
       "<p>5 rows × 38 columns</p>\n",
       "</div>"
      ],
      "text/plain": [
       "   Unnamed: 0  Unnamed: 0.1  Unnamed: 0.1.1  Unnamed: 0.1.1.1  \\\n",
       "0           0             0               0                 0   \n",
       "1           1             1               1                 1   \n",
       "2           2             2               2                 2   \n",
       "3           3             3               3                 3   \n",
       "4           4             4               4                 4   \n",
       "\n",
       "   Unnamed: 0.1.1.1.1  essay_id  topic  \\\n",
       "0                   0         1      1   \n",
       "1                   1         2      1   \n",
       "2                   2         3      1   \n",
       "3                   3         4      1   \n",
       "4                   4         5      1   \n",
       "\n",
       "                                               essay  rater1_domain1  \\\n",
       "0  Dear local newspaper, I think effects computer...               4   \n",
       "1  Dear @CAPS1 @CAPS2, I believe that using compu...               5   \n",
       "2  Dear, @CAPS1 @CAPS2 @CAPS3 More and more peopl...               4   \n",
       "3  Dear Local Newspaper, @CAPS1 I have found that...               5   \n",
       "4  Dear @LOCATION1, I know having computers has a...               4   \n",
       "\n",
       "   rater2_domain1  ...  rater3_trait2  rater3_trait3  rater3_trait4  \\\n",
       "0               4  ...            NaN            NaN            NaN   \n",
       "1               4  ...            NaN            NaN            NaN   \n",
       "2               3  ...            NaN            NaN            NaN   \n",
       "3               5  ...            NaN            NaN            NaN   \n",
       "4               4  ...            NaN            NaN            NaN   \n",
       "\n",
       "   rater3_trait5  rater3_trait6                                     err_ratio  \\\n",
       "0            NaN            NaN  (0.026627218934911243, 0.005917159763313609)   \n",
       "1            NaN            NaN   (0.03341288782816229, 0.011933174224343675)   \n",
       "2            NaN            NaN  (0.0035842293906810036, 0.02867383512544803)   \n",
       "3            NaN            NaN    (0.04580152671755725, 0.02099236641221374)   \n",
       "4            NaN            NaN  (0.025806451612903226, 0.010752688172043012)   \n",
       "\n",
       "     avg_len  total_err_ratio  avg_wdlen  \\\n",
       "0  30.818182         0.032544   4.387574   \n",
       "1  22.052632         0.045346   4.353222   \n",
       "2  18.533333         0.032258   4.405018   \n",
       "3  21.040000         0.066794   4.868321   \n",
       "4  14.903226         0.036559   4.408602   \n",
       "\n",
       "                                        count_vector  \n",
       "0    (0, 19929)\\t1\\n  (0, 13868)\\t1\\n  (0, 33918)...  \n",
       "1    (0, 20235)\\t1\\n  (0, 26185)\\t1\\n  (0, 26031)...  \n",
       "2    (0, 36230)\\t1\\n  (0, 29755)\\t1\\n  (0, 7980)\\...  \n",
       "3    (0, 34683)\\t1\\n  (0, 21557)\\t1\\n  (0, 8232)\\...  \n",
       "4    (0, 36306)\\t1\\n  (0, 22533)\\t1\\n  (0, 28070)...  \n",
       "\n",
       "[5 rows x 38 columns]"
      ]
     },
     "execution_count": 2,
     "metadata": {},
     "output_type": "execute_result"
    }
   ],
   "source": [
    "training_set  = pd.read_csv('training_set_rel3.tsv', sep='\\t', encoding = \"ISO-8859-1\")\\\n",
    "            .rename(columns={'essay_set': 'topic', 'domain1_score': 'target_score', 'domain2_score': 'topic2_target'})\n",
    "training_set.head()"
   ]
  },
  {
   "cell_type": "markdown",
   "metadata": {},
   "source": [
    "# Essay processing:\n",
    "Language correction with languagetool (add number of corrections as feature)\n",
    "Sentence tokenization with Spacy\n",
    "Sentence count and length\n",
    "Word tokenize with Spacy\n",
    "Word token classification (punctuation, stop words and anonymized entities, pos, ent)\n",
    "Document similarity (based on arbitrary high scoring essay for each topic)"
   ]
  },
  {
   "cell_type": "markdown",
   "metadata": {},
   "source": [
    "## Grammar and spelling\n",
    "As to be expected with student essays, many essays exhibit grammar and spelling errors.\n",
    "\n",
    "Parts-of-speech (POS) and named-entity-recognition (NER) is hampered in part by the lack of consitent spelling and punctuation. Therefore, the essays will be corrected using languagetool and the nlp parsing will be performed with Spacy on the corrected essays."
   ]
  },
  {
   "cell_type": "code",
   "execution_count": 3,
   "metadata": {},
   "outputs": [],
   "source": [
    "import language_check"
   ]
  },
  {
   "cell_type": "code",
   "execution_count": 4,
   "metadata": {},
   "outputs": [],
   "source": [
    "tool = language_check.LanguageTool('en-US')"
   ]
  },
  {
   "cell_type": "code",
   "execution_count": 5,
   "metadata": {},
   "outputs": [
    {
     "data": {
      "text/plain": [
       "0        Dear local newspaper, I think effects computer...\n",
       "1        Dear @CAPS1 @CAPS2, I believe that using compu...\n",
       "2        Dear, @CAPS1 @CAPS2 @CAPS3 More and more peopl...\n",
       "3        Dear Local Newspaper, @CAPS1 I have found that...\n",
       "4        Dear @LOCATION1, I know having computers has a...\n",
       "5        Dear @LOCATION1, I think that computers have a...\n",
       "6        Did you know that more and more people these d...\n",
       "7        @PERCENT1 of people agree that computers make ...\n",
       "8        Dear reader, @ORGANIZATION1 has had a dramatic...\n",
       "9        In the @LOCATION1 we have the technology of a ...\n",
       "10       Dear @LOCATION1, @CAPS1 people acknowledge the...\n",
       "11       Dear @CAPS1 @CAPS2 I feel that computers do ta...\n",
       "12       Dear local newspaper I raed ur argument on the...\n",
       "13       My three detaileds for this news paper article...\n",
       "14       Dear, In this world today we should have every...\n",
       "15       Dear @ORGANIZATION1, The computer blinked to l...\n",
       "16       Dear Local Newspaper, I belive that computers ...\n",
       "17       Dear Local Newspaper, I must admit that the ex...\n",
       "18       I aegre waf the evansmant ov tnachnolage. The ...\n",
       "19       Well computers can be a good or a bad thing. I...\n",
       "20       Dear @CAPS1 of the @CAPS2 @CAPS3 daily, I am w...\n",
       "21       Dear local Newspaper @CAPS1 a take all your co...\n",
       "22       Dear local newspaper, @CAPS1 you ever see a ch...\n",
       "23       Dear local newspaper, I've heard that not many...\n",
       "24       Dear @CAPS1, @CAPS2 off, I beileve that comput...\n",
       "25       Do you think that computers are useless? Or do...\n",
       "26       Computers a good because you can get infermati...\n",
       "27       Dear Newspaper, Computers are high tec and hav...\n",
       "28       Dear local newspaper, @CAPS1 people throughout...\n",
       "29       Dear Newspaper People, I think that computers ...\n",
       "                               ...                        \n",
       "12946     We all understand the benefits of laughter. L...\n",
       "12947          It was midsummer, and i could feel the c...\n",
       "12948     Have you ever experienced a time with your fr...\n",
       "12949     I woke up just like any other day happy yet l...\n",
       "12950     Laughter is an important part of my life, eit...\n",
       "12951     I sat at the table, speechless, as they told ...\n",
       "12952     As I remember back, it was @DATE1. It was a h...\n",
       "12953     Those eyes, it was like I was looking out int...\n",
       "12954    Some say that laugh is the common language bet...\n",
       "12955     Laughter is an integral element to many situa...\n",
       "12956    One time I was at my friend @PERSON1's house, ...\n",
       "12957     LAUGHTER @CAPS1 knows that laughter is a heal...\n",
       "12958    One thing that people in the world love to do ...\n",
       "12959     Laughter, to me, is an important aspect of my...\n",
       "12960     People always say that the worst parts of lif...\n",
       "12961     Why is it that people can look back at someth...\n",
       "12962     Before my best friend moved away, we would st...\n",
       "12963                                  @ORGANIZATION1  ...\n",
       "12964     Morose and somnolent, I woke up. I woke up to...\n",
       "12965     A while back my mom had decided to send me to...\n",
       "12966                                I dont like computers\n",
       "12967     Everyone knows how important a laugh can be. ...\n",
       "12968     Laughter is an important part of my family. W...\n",
       "12969     laughter is an important part of any kind of ...\n",
       "12970    Sometime ago on a hot @DATE1 day my @NUM1 ,@PE...\n",
       "12971     In most stories mothers and daughters are eit...\n",
       "12972     I never understood the meaning laughter is th...\n",
       "12973    When you laugh, is @CAPS5 out of habit, or is ...\n",
       "12974                                   Trippin' on fen...\n",
       "12975     Many people believe that laughter can improve...\n",
       "Name: essay, Length: 12976, dtype: object"
      ]
     },
     "execution_count": 5,
     "metadata": {},
     "output_type": "execute_result"
    }
   ],
   "source": [
    "training_set.essay"
   ]
  },
  {
   "cell_type": "code",
   "execution_count": 6,
   "metadata": {},
   "outputs": [
    {
     "data": {
      "text/plain": [
       "\"I think that the computers are good to be used because anybody can use them at anytime or go on it whenever they want to. The reason why I think it is good is because you can contact someone that you know and talk to them whenever you want. Another reason is because you can play games or look for something or even make research on stuff that you want to know or about something that you were always curious about. A computer is also useful for better things like using it for when going to work or when a kid in school needs to do a report of project and needs to do it in typing and also to save stuff that you don't want anybody to use. Computers can sometimes be helpful to people that really need it and that actually need to use it, but it can also be a fun activity to do if anybody doesn't have nothing to do. I think that the computer is awesome because anybody enough can open up their own website and create something what. A lot of people can go on the internet and open an account on a website; for example a @CAPS1 or a @CAPS2 or a @CAPS3 for that what to have an account. These are a lot of people that use the computer in a good way and use it for things that it can actually be used for. So I think that the computers are Avery helpful to people that like reaching for stuff that there curious about or to have to use it for good needs.\""
      ]
     },
     "execution_count": 6,
     "metadata": {},
     "output_type": "execute_result"
    }
   ],
   "source": [
    "#example of language check\n",
    "text = training_set.essay[123]\n",
    "matches = tool.check(text)\n",
    "text=language_check.correct(text, matches)\n",
    "text"
   ]
  },
  {
   "cell_type": "code",
   "execution_count": 7,
   "metadata": {},
   "outputs": [
    {
     "name": "stdout",
     "output_type": "stream",
     "text": [
      "Processing time: 0:15:41.152830\n"
     ]
    }
   ],
   "source": [
    "# use language tool to correct for most spelling and grammatical errors. Also count the applied corrections. \n",
    "# Using language_check python wrapper for languagetool:\n",
    "# https://www.languagetool.org/dev\n",
    "\n",
    "tool = language_check.LanguageTool('en-US')\n",
    "\n",
    "t0 = datetime.now()\n",
    "\n",
    "training_set['matches'] = training_set['essay'].apply(lambda txt: tool.check(txt))\n",
    "training_set['corrections'] = training_set.apply(lambda l: len(l['matches']), axis=1)\n",
    "training_set['corrected'] = training_set.apply(lambda l: language_check.correct(l['essay'], l['matches']), axis=1)\n",
    "\n",
    "t1 = datetime.now()\n",
    "print('Processing time: {}'.format(t1 - t0))\n",
    "\n",
    "# # save work\n",
    "training_set.to_pickle('training_corr.pkl')"
   ]
  },
  {
   "cell_type": "code",
   "execution_count": 8,
   "metadata": {},
   "outputs": [],
   "source": [
    "def cal_err_ratio(essay):\n",
    "    matches = tool.check(essay)\n",
    "    n_typos=0\n",
    "    n_others=0\n",
    "    for m in matches:\n",
    "        if m.ruleId==\"MORFOLOGIK_RULE_EN_US\":\n",
    "            n_typos=n_typos+1\n",
    "        else:\n",
    "            n_others=n_others+1\n",
    "    length = len(essay.split())\n",
    "    return n_typos/length, n_others/length\n",
    "def cal_avg_len(essay):\n",
    "    matches = tool.check(essay)\n",
    "    essay = language_check.correct(essay, matches)\n",
    "    wordnum=len(essay.split())\n",
    "    sennum=len(essay.split(\".\"))\n",
    "    return wordnum/sennum"
   ]
  },
  {
   "cell_type": "code",
   "execution_count": null,
   "metadata": {},
   "outputs": [],
   "source": [
    "err_ratio=[]\n",
    "avg_len=[]\n",
    "for es in training_set.essay:\n",
    "    err_ratio.append(cal_err_ratio(es))\n",
    "    avg_len.append(cal_avg_len(es))"
   ]
  },
  {
   "cell_type": "code",
   "execution_count": null,
   "metadata": {},
   "outputs": [],
   "source": [
    "s = \"string. With. Punctuation?\"\n",
    "s = re.sub(r'[^\\w\\s]','',s)\n",
    "s"
   ]
  },
  {
   "cell_type": "code",
   "execution_count": null,
   "metadata": {},
   "outputs": [],
   "source": [
    "%%time\n",
    "def cal_avg_wdlen(essay):\n",
    "    total_wdlen=0\n",
    "    words=essay.split()\n",
    "    for word in words:\n",
    "        word_without_pun=re.sub(r'[^\\w\\s]','',word)\n",
    "        total_wdlen+=len(word_without_pun)\n",
    "    return total_wdlen/len(words)\n",
    "avg_wdlen=[]\n",
    "for es in training_set.essay:\n",
    "    avg_wdlen.append(cal_avg_wdlen(es))"
   ]
  },
  {
   "cell_type": "code",
   "execution_count": null,
   "metadata": {},
   "outputs": [],
   "source": [
    "training_set['avg_wdlen']=avg_wdlen"
   ]
  },
  {
   "cell_type": "code",
   "execution_count": null,
   "metadata": {},
   "outputs": [],
   "source": [
    "from sklearn.feature_extraction.text import CountVectorizer"
   ]
  },
  {
   "cell_type": "code",
   "execution_count": null,
   "metadata": {},
   "outputs": [],
   "source": [
    "corpus=list(training_set.essay)\n",
    "vectorizer = CountVectorizer()\n",
    "X = vectorizer.fit_transform(corpus)"
   ]
  },
  {
   "cell_type": "code",
   "execution_count": null,
   "metadata": {},
   "outputs": [],
   "source": [
    "wd_matrix=X.toarray()"
   ]
  },
  {
   "cell_type": "code",
   "execution_count": null,
   "metadata": {},
   "outputs": [],
   "source": [
    "count_vector = pd.DataFrame()"
   ]
  },
  {
   "cell_type": "code",
   "execution_count": null,
   "metadata": {},
   "outputs": [],
   "source": [
    "for i in range(len(wd_matrix[0])):\n",
    "    n_elements = []\n",
    "    for j in wd_matrix:\n",
    "        n_elements.append(j[i])\n",
    "    count_vector.insert(loc=i,column=\"w_vector\"+str(i),value=n_elements)"
   ]
  },
  {
   "cell_type": "code",
   "execution_count": null,
   "metadata": {},
   "outputs": [],
   "source": [
    "count_vector.to_csv('count_vector.tsv', sep='\\t', encoding = \"ISO-8859-1\")"
   ]
  },
  {
   "cell_type": "markdown",
   "metadata": {},
   "source": [
    "## features vs. score"
   ]
  },
  {
   "cell_type": "code",
   "execution_count": 10,
   "metadata": {
    "scrolled": true
   },
   "outputs": [
    {
     "data": {
      "image/png": "[encoded data removed]",
      "text/plain": [
       "<Figure size 648x648 with 8 Axes>"
      ]
     },
     "metadata": {
      "needs_background": "light"
     },
     "output_type": "display_data"
    }
   ],
   "source": [
    "def plot_scores_vs_features(features):\n",
    "    topic_number = 0\n",
    "    fig, ax = plt.subplots(4,2, figsize=(9,9), sharey=False)\n",
    "    for i in range(4):\n",
    "        for j in range(2):\n",
    "            topic_number += 1\n",
    "            features[features['topic'] == topic_number]\\\n",
    "                .groupby('target_score')['avg_len']\\\n",
    "                .agg('mean')\\\n",
    "                .plot.bar(ax=ax[i, j], rot=0)\n",
    "            ax[i,j].set_title('Topic %i' % topic_number)\n",
    "    ax[3,0].locator_params(nbins=10)\n",
    "    ax[3,1].locator_params(nbins=10)\n",
    "    plt.suptitle('essay scores vs. average sentence length')\n",
    "    plt.tight_layout(rect=[0, 0.03, 1, 0.95])\n",
    "    plt.show()\n",
    "plot_scores_vs_features(training_set)"
   ]
  },
  {
   "cell_type": "code",
   "execution_count": 11,
   "metadata": {
    "scrolled": true
   },
   "outputs": [
    {
     "data": {
      "image/png": "[encoded data removed]",
      "text/plain": [
       "<Figure size 648x648 with 8 Axes>"
      ]
     },
     "metadata": {
      "needs_background": "light"
     },
     "output_type": "display_data"
    }
   ],
   "source": [
    "def plot_scores_vs_features(features):\n",
    "    topic_number = 0\n",
    "    fig, ax = plt.subplots(4,2, figsize=(9,9), sharey=False)\n",
    "    for i in range(4):\n",
    "        for j in range(2):\n",
    "            topic_number += 1\n",
    "            features[features['topic'] == topic_number]\\\n",
    "                .groupby('target_score')['total_err_ratio']\\\n",
    "                .agg('mean')\\\n",
    "                .plot.bar(ax=ax[i, j], rot=0)\n",
    "            ax[i,j].set_title('Topic %i' % topic_number)\n",
    "    ax[3,0].locator_params(nbins=10)\n",
    "    ax[3,1].locator_params(nbins=10)\n",
    "    plt.suptitle('essay scores vs. error ratio')\n",
    "    plt.tight_layout(rect=[0, 0.03, 1, 0.95])\n",
    "    plt.show()\n",
    "plot_scores_vs_features(training_set)"
   ]
  },
  {
   "cell_type": "code",
   "execution_count": 12,
   "metadata": {},
   "outputs": [
    {
     "data": {
      "image/png": "[encoded data removed]",
      "text/plain": [
       "<Figure size 648x648 with 8 Axes>"
      ]
     },
     "metadata": {
      "needs_background": "light"
     },
     "output_type": "display_data"
    }
   ],
   "source": [
    "def plot_scores_vs_features(features):\n",
    "    topic_number = 0\n",
    "    fig, ax = plt.subplots(4,2, figsize=(9,9), sharey=False)\n",
    "    for i in range(4):\n",
    "        for j in range(2):\n",
    "            topic_number += 1\n",
    "            features[features['topic'] == topic_number]\\\n",
    "                .groupby('target_score')['avg_wdlen']\\\n",
    "                .agg('mean')\\\n",
    "                .plot.bar(ax=ax[i, j], rot=0)\n",
    "            ax[i,j].set_title('Topic %i' % topic_number)\n",
    "            ax[i,j].set_ylim(bottom=3)\n",
    "    ax[3,0].locator_params(nbins=10)\n",
    "    ax[3,1].locator_params(nbins=10)\n",
    "    plt.suptitle('Essay scores vs. average word length')\n",
    "    plt.tight_layout(rect=[0, 0.03, 1, 0.95])\n",
    "    plt.show()\n",
    "plot_scores_vs_features(training_set)"
   ]
  },
  {
   "cell_type": "code",
   "execution_count": 13,
   "metadata": {},
   "outputs": [
    {
     "data": {
      "image/png": "[encoded data removed]",
      "text/plain": [
       "<Figure size 648x648 with 8 Axes>"
      ]
     },
     "metadata": {
      "needs_background": "light"
     },
     "output_type": "display_data"
    }
   ],
   "source": [
    "def plot_scores_vs_features(features):\n",
    "    topic_number = 0\n",
    "    fig, ax = plt.subplots(4,2, figsize=(9,9), sharey=False)\n",
    "    for i in range(4):\n",
    "        for j in range(2):\n",
    "            topic_number += 1\n",
    "            features[features['topic'] == topic_number]\\\n",
    "                .groupby('target_score')['avg_wdlen']\\\n",
    "                .agg('mean')\\\n",
    "                .plot.bar(ax=ax[i, j], rot=0)\n",
    "            ax[i,j].set_title('Topic %i' % topic_number)\n",
    "            ax[i,j].set_ylim(bottom=3)\n",
    "    ax[3,0].locator_params(nbins=10)\n",
    "    ax[3,1].locator_params(nbins=10)\n",
    "    plt.suptitle('essay scores vs. average word length')\n",
    "    plt.tight_layout(rect=[0, 0.03, 1, 0.95])\n",
    "    plt.show()\n",
    "plot_scores_vs_features(training_set)"
   ]
  },
  {
   "cell_type": "markdown",
   "metadata": {},
   "source": [
    "# NLP with SpaCy"
   ]
  },
  {
   "cell_type": "raw",
   "metadata": {},
   "source": [
    "spacy.load('en_core_web_sm')"
   ]
  },
  {
   "cell_type": "code",
   "execution_count": null,
   "metadata": {},
   "outputs": [],
   "source": [
    "sents = []\n",
    "tokens = []\n",
    "lemma = []\n",
    "pos = []\n",
    "ner = []\n",
    "\n",
    "stop_words = set(STOP_WORDS)\n",
    "stop_words.update(punctuation) # remove it if you need punctuation \n",
    "\n",
    "nlp = spacy.load('en_core_web_sm')\n",
    "\n",
    "t0 = datetime.now()\n",
    "\n",
    "# suppress numpy warnings\n",
    "np.warnings.filterwarnings('ignore')\n",
    "\n",
    "i = 1\n",
    "#for essay in nlp.pipe(training_set['corrected'], batch_size=100, n_threads=3):\n",
    "for essay in nlp.pipe(training_set['corrected'], batch_size=100):\n",
    "    print(i)\n",
    "    i += 1\n",
    "    if essay.is_parsed:\n",
    "        tokens.append([e.text for e in essay])\n",
    "        sents.append([sent.string.strip() for sent in essay.sents])\n",
    "        pos.append([e.pos_ for e in essay])\n",
    "        ner.append([e.text for e in essay.ents])\n",
    "        lemma.append([n.lemma_ for n in essay])\n",
    "    else:\n",
    "        # We want to make sure that the lists of parsed results have the\n",
    "        # same number of entries of the original Dataframe, so add some blanks in case the parse fails\n",
    "        tokens.append(None)\n",
    "        lemma.append(None)\n",
    "        pos.append(None)\n",
    "        sents.append(None)\n",
    "        ner.append(None)\n",
    "\n",
    "training_set['tokens'] = tokens\n",
    "training_set['lemma'] = lemma\n",
    "training_set['pos'] = pos\n",
    "training_set['sents'] = sents\n",
    "training_set['ner'] = ner\n",
    "\n",
    "t1 = datetime.now()\n",
    "print('Processing time: {}'.format(t1 - t0))"
   ]
  },
  {
   "cell_type": "code",
   "execution_count": null,
   "metadata": {},
   "outputs": [],
   "source": [
    "training_set.to_pickle('training_spacy.pkl')"
   ]
  },
  {
   "cell_type": "code",
   "execution_count": null,
   "metadata": {},
   "outputs": [],
   "source": [
    "training_set = pd.read_pickle('training_spacy.pkl')"
   ]
  },
  {
   "cell_type": "code",
   "execution_count": null,
   "metadata": {},
   "outputs": [],
   "source": [
    "training_set[['tokens', 'pos', 'sents', 'ner']].head()"
   ]
  }
 ],
 "metadata": {
  "kernelspec": {
   "display_name": "Python 3",
   "language": "python",
   "name": "python3"
  },
  "language_info": {
   "codemirror_mode": {
    "name": "ipython",
    "version": 3
   },
   "file_extension": ".py",
   "mimetype": "text/x-python",
   "name": "python",
   "nbconvert_exporter": "python",
   "pygments_lexer": "ipython3",
   "version": "3.7.1"
  }
 },
 "nbformat": 4,
 "nbformat_minor": 2
}
